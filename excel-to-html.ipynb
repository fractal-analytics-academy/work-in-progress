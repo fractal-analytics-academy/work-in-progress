{
 "cells": [
  {
   "cell_type": "code",
   "execution_count": 1,
   "metadata": {},
   "outputs": [],
   "source": [
    "import pandas as pd"
   ]
  },
  {
   "cell_type": "code",
   "execution_count": 2,
   "metadata": {},
   "outputs": [],
   "source": [
    "df = pd.read_excel('test-data.xlsx')"
   ]
  },
  {
   "cell_type": "code",
   "execution_count": 3,
   "metadata": {
    "scrolled": true
   },
   "outputs": [
    {
     "data": {
      "text/html": [
       "<div>\n",
       "<style scoped>\n",
       "    .dataframe tbody tr th:only-of-type {\n",
       "        vertical-align: middle;\n",
       "    }\n",
       "\n",
       "    .dataframe tbody tr th {\n",
       "        vertical-align: top;\n",
       "    }\n",
       "\n",
       "    .dataframe thead th {\n",
       "        text-align: right;\n",
       "    }\n",
       "</style>\n",
       "<table border=\"1\" class=\"dataframe\">\n",
       "  <thead>\n",
       "    <tr style=\"text-align: right;\">\n",
       "      <th></th>\n",
       "      <th>Rank</th>\n",
       "      <th>Team</th>\n",
       "      <th>Points</th>\n",
       "    </tr>\n",
       "  </thead>\n",
       "  <tbody>\n",
       "    <tr>\n",
       "      <th>0</th>\n",
       "      <td>1</td>\n",
       "      <td>Calvin &amp; Hobbes (Chirag Agrawal &amp; Govind Malho...</td>\n",
       "      <td>40</td>\n",
       "    </tr>\n",
       "    <tr>\n",
       "      <th>1</th>\n",
       "      <td>2</td>\n",
       "      <td>Transformers (Paritosh Pandey &amp; Ekta Singh)</td>\n",
       "      <td>38</td>\n",
       "    </tr>\n",
       "    <tr>\n",
       "      <th>2</th>\n",
       "      <td>3</td>\n",
       "      <td>Dhanush Kishore</td>\n",
       "      <td>35</td>\n",
       "    </tr>\n",
       "    <tr>\n",
       "      <th>3</th>\n",
       "      <td>4</td>\n",
       "      <td>VP Squared (Vinita Phadke &amp; Vishwanath Prudhivi)</td>\n",
       "      <td>32</td>\n",
       "    </tr>\n",
       "    <tr>\n",
       "      <th>4</th>\n",
       "      <td>5</td>\n",
       "      <td>Nobody (Dinesh Kumar &amp; Himanshu)</td>\n",
       "      <td>20</td>\n",
       "    </tr>\n",
       "  </tbody>\n",
       "</table>\n",
       "</div>"
      ],
      "text/plain": [
       "   Rank                                               Team  Points\n",
       "0     1  Calvin & Hobbes (Chirag Agrawal & Govind Malho...      40\n",
       "1     2        Transformers (Paritosh Pandey & Ekta Singh)      38\n",
       "2     3                                    Dhanush Kishore      35\n",
       "3     4   VP Squared (Vinita Phadke & Vishwanath Prudhivi)      32\n",
       "4     5                   Nobody (Dinesh Kumar & Himanshu)      20"
      ]
     },
     "execution_count": 3,
     "metadata": {},
     "output_type": "execute_result"
    }
   ],
   "source": [
    "df.head()"
   ]
  },
  {
   "cell_type": "code",
   "execution_count": 4,
   "metadata": {},
   "outputs": [],
   "source": [
    "df.to_html('test-data.html')"
   ]
  },
  {
   "cell_type": "markdown",
   "metadata": {},
   "source": [
    "## Dynamically generating code"
   ]
  },
  {
   "cell_type": "code",
   "execution_count": 19,
   "metadata": {
    "scrolled": true
   },
   "outputs": [
    {
     "name": "stdout",
     "output_type": "stream",
     "text": [
      "Transformers (Paritosh Pandey & Ekta Singh)\n",
      "Dhanush Kishore\n",
      "VP Squared (Vinita Phadke & Vishwanath Prudhivi)\n",
      "Nobody (Dinesh Kumar & Himanshu)\n",
      "i/p o/p (Aditya Lahoti)\n",
      "A_Team_Has_No_Name(Shaheen Perveen & GeethaSaikrishna Anumukonda)\n",
      "Markov(Mayug Maniparambil &  Harshit Saxena)\n",
      "Kaushal Sharma\n",
      "Shubham Gupta\n",
      "Himanshu Shukla\n",
      "Lone Wolf (Omkar Sohoni)\n",
      "Bhanu Teja( G.V.BhanuTeja & Aravinda Mandli)\n",
      "Meenakshi Mane\n",
      "RA (Rukku Lama & Ashay Nikam)\n",
      "Manas sehra & sarthak pawar \n"
     ]
    }
   ],
   "source": [
    "for i in range(1,df.shape[0]):\n",
    "    print(df.iat[i,1])"
   ]
  },
  {
   "cell_type": "code",
   "execution_count": 56,
   "metadata": {},
   "outputs": [],
   "source": [
    "html1 = \"\"\" \n",
    "<html>\n",
    "  <head>\n",
    "    <style>\n",
    "        #customers {\n",
    "        font-family: \"Trebuchet MS\", Arial, Helvetica, sans-serif;\n",
    "        border-collapse: collapse;\n",
    "        width: 80%;\n",
    "        margin-left: auto;\n",
    "        margin-right: auto;\n",
    "    }\n",
    "\n",
    "        #customers td, #customers th {\n",
    "        border: 1px solid #ddd;\n",
    "        padding: 8px;\n",
    "    }\n",
    "        #customers tr:nth-child(even){background-color: #f2f2f2;}\n",
    "        #customers tr:hover {background-color: #ddd;}  \n",
    "        #customers th {\n",
    "          padding-top: 12px;\n",
    "          padding-bottom: 12px;\n",
    "          text-align: left;\n",
    "          background-color: #1d96b2;\n",
    "          color: white;\n",
    "    }\n",
    "    </style>\n",
    "  </head>\n",
    "<body>\n",
    "  <img src=\"https://wallpaperaccess.com/full/427934.jpg\" alt=\"Trulli\" width=\"1200\" height=\"80\">\n",
    "  <table id=\"customers\">\n",
    "    <caption><font size=\"6\">Audio Hackathon Leaderboard</font></caption>\n",
    "    <br></br>\n",
    "    <thead>\n",
    "      <tr>\n",
    "        <th scope=\"col\">Rank</th>\n",
    "        <th scope=\"col\">Team</th>\n",
    "        <th scope=\"col\">Points</th>\n",
    "      </tr>\n",
    "    </thead>\n",
    "\"\"\"\n",
    "\n",
    "for i in range(1,df.shape[0]):\n",
    "    html1 = html1 +\"\"\"<tr>\n",
    "    <td>\"\"\"+str(df.iat[i,0])+\"\"\"</td>\n",
    "    <td>\"\"\"+str(df.iat[i,1])+\"\"\"</td>\n",
    "    <td>\"\"\"+str(df.iat[i,2])+\"\"\"</td>\n",
    "    </tr>\"\"\"\n",
    "html2 = \"\"\"</tbody>\n",
    "</table>\n",
    "</div>\n",
    "</body>\n",
    "</html>\n",
    "\"\"\"\n",
    "\n",
    "#print(html1+html2)\n"
   ]
  },
  {
   "cell_type": "code",
   "execution_count": 57,
   "metadata": {},
   "outputs": [],
   "source": [
    "with open(\"file1.html\", \"w\") as file:\n",
    "    file.write(html1)"
   ]
  },
  {
   "cell_type": "code",
   "execution_count": null,
   "metadata": {},
   "outputs": [],
   "source": []
  }
 ],
 "metadata": {
  "kernelspec": {
   "display_name": "Python 3",
   "language": "python",
   "name": "python3"
  },
  "language_info": {
   "codemirror_mode": {
    "name": "ipython",
    "version": 3
   },
   "file_extension": ".py",
   "mimetype": "text/x-python",
   "name": "python",
   "nbconvert_exporter": "python",
   "pygments_lexer": "ipython3",
   "version": "3.7.3"
  }
 },
 "nbformat": 4,
 "nbformat_minor": 2
}
