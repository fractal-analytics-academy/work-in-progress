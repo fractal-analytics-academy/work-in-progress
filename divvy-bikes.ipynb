{
 "cells": [
  {
   "cell_type": "code",
   "execution_count": 3,
   "metadata": {},
   "outputs": [],
   "source": [
    "import pandas as pd\n",
    "import os"
   ]
  },
  {
   "cell_type": "code",
   "execution_count": 26,
   "metadata": {},
   "outputs": [],
   "source": [
    "files = os.listdir('../datasets/divvy-bikes/stations-data/')"
   ]
  },
  {
   "cell_type": "code",
   "execution_count": 33,
   "metadata": {},
   "outputs": [
    {
     "name": "stdout",
     "output_type": "stream",
     "text": [
      "Divvy_Stations_2013.csv\n",
      "Index(['id', 'name', 'latitude', 'longitude', 'dpcapacity', 'landmark',\n",
      "       'online date'],\n",
      "      dtype='object')\n",
      "(300, 7)\n",
      "Divvy_Stations_2014-Q1Q2.csv\n",
      "Index(['id', 'name', 'latitude', 'longitude', 'dpcapacity', 'online date'], dtype='object')\n",
      "(600, 7)\n",
      "Divvy_Stations_2014-Q3Q4.csv\n",
      "Index(['id', 'name', 'latitude', 'longitude', 'dpcapacity', 'dateCreated'], dtype='object')\n",
      "(900, 8)\n",
      "(900, 8)\n"
     ]
    },
    {
     "name": "stderr",
     "output_type": "stream",
     "text": [
      "C:\\ProgramData\\Anaconda3\\lib\\site-packages\\pandas\\core\\frame.py:6692: FutureWarning: Sorting because non-concatenation axis is not aligned. A future version\n",
      "of pandas will change to not sort by default.\n",
      "\n",
      "To accept the future behavior, pass 'sort=False'.\n",
      "\n",
      "To retain the current behavior and silence the warning, pass 'sort=True'.\n",
      "\n",
      "  sort=sort)\n"
     ]
    }
   ],
   "source": [
    "big_df = pd.DataFrame()\n",
    "for file in files:\n",
    "    df = pd.read_csv('../datasets/divvy-bikes/stations-data/'+file)\n",
    "    print(file)\n",
    "    print(df.columns)\n",
    "    big_df = big_df.append(df)\n",
    "    print(big_df.shape)\n",
    "print(big_df.shape)"
   ]
  },
  {
   "cell_type": "code",
   "execution_count": 34,
   "metadata": {},
   "outputs": [],
   "source": [
    "big_df = big_df.drop_duplicates(keep='first')"
   ]
  },
  {
   "cell_type": "code",
   "execution_count": 35,
   "metadata": {},
   "outputs": [
    {
     "data": {
      "text/plain": [
       "(900, 8)"
      ]
     },
     "execution_count": 35,
     "metadata": {},
     "output_type": "execute_result"
    }
   ],
   "source": [
    "big_df.shape"
   ]
  },
  {
   "cell_type": "code",
   "execution_count": 36,
   "metadata": {},
   "outputs": [],
   "source": [
    "big_df.to_excel('../datasets/divvy-bikes/appended-stations.xlsx',index=False)"
   ]
  },
  {
   "cell_type": "code",
   "execution_count": null,
   "metadata": {},
   "outputs": [],
   "source": []
  }
 ],
 "metadata": {
  "kernelspec": {
   "display_name": "Python 3",
   "language": "python",
   "name": "python3"
  },
  "language_info": {
   "codemirror_mode": {
    "name": "ipython",
    "version": 3
   },
   "file_extension": ".py",
   "mimetype": "text/x-python",
   "name": "python",
   "nbconvert_exporter": "python",
   "pygments_lexer": "ipython3",
   "version": "3.7.3"
  }
 },
 "nbformat": 4,
 "nbformat_minor": 2
}
