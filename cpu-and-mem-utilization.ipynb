{
  "cells": [
    {
      "metadata": {},
      "cell_type": "markdown",
      "source": "## References :\n[Here](https://www.cyberciti.biz/tips/how-do-i-find-out-linux-cpu-utilization.html), \n[Here](https://backstage.forgerock.com/knowledge/kb/article/a43063084) \nand [Here](https://geekflare.com/process-cpu-memory-monitoring/)"
    },
    {
      "metadata": {
        "trusted": true
      },
      "cell_type": "code",
      "source": "import pandas as pd",
      "execution_count": 1,
      "outputs": []
    },
    {
      "metadata": {
        "trusted": true
      },
      "cell_type": "code",
      "source": "%%time\ndf1 = pd.read_csv('./data/1987.csv')\n#df2 = pd.read_csv('./data/1988.csv')",
      "execution_count": 18,
      "outputs": [
        {
          "output_type": "stream",
          "text": "CPU times: user 3.72 s, sys: 317 ms, total: 4.04 s\nWall time: 20.7 s\n",
          "name": "stdout"
        }
      ]
    },
    {
      "metadata": {
        "trusted": true
      },
      "cell_type": "code",
      "source": "del df1",
      "execution_count": 7,
      "outputs": []
    },
    {
      "metadata": {
        "trusted": true
      },
      "cell_type": "code",
      "source": "",
      "execution_count": null,
      "outputs": []
    }
  ],
  "metadata": {
    "kernelspec": {
      "name": "python36",
      "display_name": "Python 3.6",
      "language": "python"
    },
    "language_info": {
      "mimetype": "text/x-python",
      "nbconvert_exporter": "python",
      "name": "python",
      "pygments_lexer": "ipython3",
      "version": "3.6.6",
      "file_extension": ".py",
      "codemirror_mode": {
        "version": 3,
        "name": "ipython"
      }
    }
  },
  "nbformat": 4,
  "nbformat_minor": 2
}