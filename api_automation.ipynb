{
 "cells": [
  {
   "cell_type": "code",
   "execution_count": 2,
   "metadata": {},
   "outputs": [],
   "source": [
    "import requests"
   ]
  },
  {
   "cell_type": "code",
   "execution_count": 19,
   "metadata": {},
   "outputs": [],
   "source": [
    "url = 'https://api.doselect.com/platform/v1/test?limit=100'\n",
    "test_url = 'https://api.doselect.com/platform/v1/test/2yp3a/candidates?limit=300'\n",
    "#test_url = 'https://api.doselect.com/platform/v1/test/2yp3a'"
   ]
  },
  {
   "cell_type": "code",
   "execution_count": 20,
   "metadata": {},
   "outputs": [],
   "source": [
    "headers = {\n",
    "    \"DoSelect-API-Key\": \"ad1746e5392d4969b05714b321e9c3da\",\n",
    "    \"DoSelect-API-Secret\": \"b838c0e8481d5c4d2b468f909904de616cd98f992a5a04341031c46a09abd0b9\"\n",
    "}\n",
    "\n",
    "response = requests.get(url, headers=headers)"
   ]
  },
  {
   "cell_type": "code",
   "execution_count": 21,
   "metadata": {},
   "outputs": [],
   "source": [
    "x = response.json()"
   ]
  },
  {
   "cell_type": "code",
   "execution_count": 13,
   "metadata": {},
   "outputs": [
    {
     "name": "stdout",
     "output_type": "stream",
     "text": [
      "69eq5\n",
      "40\n",
      "150\n"
     ]
    }
   ],
   "source": [
    "print(x['objects'][0]['slug'])\n",
    "print(x['objects'][0]['cutoff'])\n",
    "print(x['objects'][0]['total_test_score'])"
   ]
  },
  {
   "cell_type": "code",
   "execution_count": 15,
   "metadata": {},
   "outputs": [
    {
     "name": "stdout",
     "output_type": "stream",
     "text": [
      "https://api.doselect.com/platform/v1/test/69eq5/candidates?limit=300\n",
      "https://api.doselect.com/platform/v1/test/ewy4p/candidates?limit=300\n",
      "https://api.doselect.com/platform/v1/test/5wbvx/candidates?limit=300\n",
      "https://api.doselect.com/platform/v1/test/0r668/candidates?limit=300\n",
      "https://api.doselect.com/platform/v1/test/bvy9v/candidates?limit=300\n",
      "https://api.doselect.com/platform/v1/test/69o1v/candidates?limit=300\n",
      "https://api.doselect.com/platform/v1/test/ewbpp/candidates?limit=300\n",
      "https://api.doselect.com/platform/v1/test/xmebx/candidates?limit=300\n",
      "https://api.doselect.com/platform/v1/test/69og3/candidates?limit=300\n",
      "https://api.doselect.com/platform/v1/test/wbm1n/candidates?limit=300\n",
      "https://api.doselect.com/platform/v1/test/bvxpv/candidates?limit=300\n",
      "https://api.doselect.com/platform/v1/test/o3qgw/candidates?limit=300\n",
      "https://api.doselect.com/platform/v1/test/69915/candidates?limit=300\n",
      "https://api.doselect.com/platform/v1/test/5wprn/candidates?limit=300\n",
      "https://api.doselect.com/platform/v1/test/ybwe8/candidates?limit=300\n",
      "https://api.doselect.com/platform/v1/test/pg161/candidates?limit=300\n",
      "https://api.doselect.com/platform/v1/test/ybw9p/candidates?limit=300\n",
      "https://api.doselect.com/platform/v1/test/2x0lg/candidates?limit=300\n",
      "https://api.doselect.com/platform/v1/test/2yqda/candidates?limit=300\n",
      "https://api.doselect.com/platform/v1/test/2yp3a/candidates?limit=300\n",
      "https://api.doselect.com/platform/v1/test/2xo09/candidates?limit=300\n",
      "https://api.doselect.com/platform/v1/test/j5n0d/candidates?limit=300\n",
      "https://api.doselect.com/platform/v1/test/kl49n/candidates?limit=300\n",
      "https://api.doselect.com/platform/v1/test/jwem4/candidates?limit=300\n",
      "https://api.doselect.com/platform/v1/test/2e6lw/candidates?limit=300\n",
      "https://api.doselect.com/platform/v1/test/k0mry/candidates?limit=300\n",
      "https://api.doselect.com/platform/v1/test/2qm8p/candidates?limit=300\n",
      "https://api.doselect.com/platform/v1/test/2r9wo/candidates?limit=300\n",
      "https://api.doselect.com/platform/v1/test/k0gl8/candidates?limit=300\n",
      "https://api.doselect.com/platform/v1/test/2xgg9/candidates?limit=300\n",
      "https://api.doselect.com/platform/v1/test/klxx1/candidates?limit=300\n",
      "https://api.doselect.com/platform/v1/test/j6xxb/candidates?limit=300\n",
      "https://api.doselect.com/platform/v1/test/j6xav/candidates?limit=300\n",
      "https://api.doselect.com/platform/v1/test/2e48p/candidates?limit=300\n",
      "https://api.doselect.com/platform/v1/test/28w4o/candidates?limit=300\n",
      "https://api.doselect.com/platform/v1/test/2oe1q/candidates?limit=300\n",
      "https://api.doselect.com/platform/v1/test/jglwa/candidates?limit=300\n",
      "https://api.doselect.com/platform/v1/test/2mmdr/candidates?limit=300\n",
      "https://api.doselect.com/platform/v1/test/24laa/candidates?limit=300\n",
      "https://api.doselect.com/platform/v1/test/jd1y9/candidates?limit=300\n",
      "https://api.doselect.com/platform/v1/test/k146n/candidates?limit=300\n",
      "https://api.doselect.com/platform/v1/test/kv49g/candidates?limit=300\n",
      "https://api.doselect.com/platform/v1/test/jde4r/candidates?limit=300\n",
      "https://api.doselect.com/platform/v1/test/2e00y/candidates?limit=300\n",
      "https://api.doselect.com/platform/v1/test/j503b/candidates?limit=300\n",
      "https://api.doselect.com/platform/v1/test/2qob1/candidates?limit=300\n",
      "https://api.doselect.com/platform/v1/test/2y48a/candidates?limit=300\n",
      "https://api.doselect.com/platform/v1/test/2p4e3/candidates?limit=300\n",
      "https://api.doselect.com/platform/v1/test/j6g13/candidates?limit=300\n",
      "https://api.doselect.com/platform/v1/test/kadn4/candidates?limit=300\n"
     ]
    }
   ],
   "source": [
    "for i in range(len(x['objects'])):\n",
    "    candidates_url = 'https://api.doselect.com/platform/v1/test/'+x['objects'][i]['slug']+'/candidates?limit=300'\n",
    "    print(candidates_url)"
   ]
  },
  {
   "cell_type": "code",
   "execution_count": null,
   "metadata": {},
   "outputs": [],
   "source": [
    "x.keys()"
   ]
  },
  {
   "cell_type": "code",
   "execution_count": 17,
   "metadata": {},
   "outputs": [],
   "source": [
    "new_dict = {k: v for k, v in x.items()}"
   ]
  },
  {
   "cell_type": "code",
   "execution_count": null,
   "metadata": {},
   "outputs": [],
   "source": [
    "new_dict['objects'][0]"
   ]
  },
  {
   "cell_type": "code",
   "execution_count": null,
   "metadata": {},
   "outputs": [],
   "source": [
    "for obj in new_dict['objects']:\n",
    "    print(obj['email']+\":\"+str(obj['report']['total_score']))"
   ]
  },
  {
   "cell_type": "code",
   "execution_count": null,
   "metadata": {},
   "outputs": [],
   "source": [
    "new_dict"
   ]
  },
  {
   "cell_type": "code",
   "execution_count": null,
   "metadata": {},
   "outputs": [],
   "source": [
    "new_dict['objects'][1]['name']"
   ]
  },
  {
   "cell_type": "code",
   "execution_count": null,
   "metadata": {},
   "outputs": [],
   "source": [
    "Supervised Learning,ewy4p\n",
    "Unsupervised Learning,0r668\n",
    "Time Series Analysis and Forecasting:wbm1n\n",
    "Spark 201 Assessment:bvxpv\n",
    "Big Data Essentials:2x0lg\n",
    "Natural Language Processing:2yqda\n",
    "Visualization in PowerBI:2yp3a\n",
    "Cloud Esssentials:2xo09\n",
    "Introduction to Machine Learning:j5n0d"
   ]
  },
  {
   "cell_type": "code",
   "execution_count": 22,
   "metadata": {},
   "outputs": [
    {
     "name": "stdout",
     "output_type": "stream",
     "text": [
      "To Transfer [ARCHIVE],69eq5\n",
      "Supervised Learning,ewy4p\n",
      "Anomaly classification To-Archive,5wbvx\n",
      "Unsupervised Learning,0r668\n",
      "Unsupervised P3 To-ARCHIVE,bvy9v\n",
      "Unsupervised To-ARCHIVE,69o1v\n",
      "ML AI Problems To-Archive,ewbpp\n",
      "Time Series P2 To-Archive,xmebx\n",
      "Time Series P1,69og3\n",
      "Time Series Analysis and Forecasting,wbm1n\n",
      "Spark 201 Assessment,bvxpv\n",
      "Hiring - SQL Test,o3qgw\n",
      "Recruitment test for Power BI,69915\n",
      "just test,5wprn\n",
      "kkkkkkkkkkkk,ybwe8\n",
      "testing,pg161\n",
      "dummy testing LDA,ybw9p\n",
      "Big Data Essentials,2x0lg\n",
      "Natural Language Processing,2yqda\n",
      "Visualization in PowerBI,2yp3a\n",
      "Cloud Esssentials,2xo09\n",
      "Introduction to Machine Learning,j5n0d\n",
      "Time series sample MCQ test,kl49n\n",
      "Test-PowerBI-Alpha,jwem4\n",
      "Debug Test For Clustering Problem,2e6lw\n",
      "Digital analytics 201,k0mry\n",
      "C#.net Test,2qm8p\n",
      "SQL Test,2r9wo\n",
      "Core Java Test,k0gl8\n",
      "Tensorflow Test Demo,2xgg9\n",
      "Deep Learning demo,klxx1\n",
      "ML 201 and 202 demo,j6xxb\n",
      "sampleTest,j6xav\n",
      "DL201 TESTING,2e48p\n",
      "Fractal SCOPE course for SPIT on Python - assessment,28w4o\n",
      "try K nearest,2oe1q\n",
      "ML Assessment ML202,jglwa\n",
      "Scrum Master Assessment,2mmdr\n",
      "Machine learning quiz - Unilever,24laa\n",
      "ML Assessment ML202 - do not use!!!,jd1y9\n",
      "Deep Learning,k146n\n",
      "sampletest,kv49g\n",
      "Jupyter env testing,jde4r\n",
      "Tensorflow ML Test,2e00y\n",
      "Testing Tensorflow,j503b\n",
      "Jupyter Environment For TensorFlow | FAA Use Only,2qob1\n",
      "ML  Assessment ML201,2y48a\n",
      "ML MCQs testing environment | FAA use only!!!,2p4e3\n",
      "ML  Assessment - alpha version - FAA use only,j6g13\n",
      "R + SQL Test,kadn4\n",
      "Python+SQL Test,jd6e1\n",
      "Philips Recruitment Test (R & SQL Coding),23ry9\n",
      "Fractal DS test R version,2xpp9\n",
      "Fractal DS test Python version,klpp1\n",
      "DS Entrance Test,2xpy1\n",
      "BDE_Entrance_Test,28o0l\n",
      "BDE Entrance Exam Apr'18,jgod9\n",
      "ML test - internal,2mnll\n",
      "Machine learning - internal testing - FAA use only!!,k0n1x\n",
      "Python for data science - assessment from FAA,295wg\n",
      "Python - internal testing,2mv6e\n",
      "R Pilot Test,ka3wb\n",
      "Python Pilot Test,jdxm8\n",
      "R coding - internal testing - FAA use only!!,295vg\n",
      "R 201 Pilot(Updated),2xnpy\n",
      "R 201 Pilot(Updated),klbpd\n",
      "R for data science - assessment from FAA,k1rba\n",
      "Python - practice test,jwn1m\n",
      "R practice test,2xnyx\n",
      "ML Data Challenge,k0p6y\n",
      "R 201 assessment,28p6a\n",
      "Python_201_Fractal,jwp54\n",
      "Python,2oqev\n",
      "Python 201 Fractal,2yyxa\n",
      "R and Python Test,24gog\n",
      "Python Developer Test,j6y3b\n",
      "R Developer Test,2oqq1\n"
     ]
    }
   ],
   "source": [
    "for i in x['objects']:\n",
    "    print(i['name']+\",\"+i['slug'])"
   ]
  },
  {
   "cell_type": "code",
   "execution_count": null,
   "metadata": {},
   "outputs": [],
   "source": [
    "new_dict['meta']"
   ]
  },
  {
   "cell_type": "code",
   "execution_count": null,
   "metadata": {},
   "outputs": [],
   "source": []
  }
 ],
 "metadata": {
  "kernelspec": {
   "display_name": "Python 3",
   "language": "python",
   "name": "python3"
  },
  "language_info": {
   "codemirror_mode": {
    "name": "ipython",
    "version": 3
   },
   "file_extension": ".py",
   "mimetype": "text/x-python",
   "name": "python",
   "nbconvert_exporter": "python",
   "pygments_lexer": "ipython3",
   "version": "3.7.3"
  }
 },
 "nbformat": 4,
 "nbformat_minor": 2
}
