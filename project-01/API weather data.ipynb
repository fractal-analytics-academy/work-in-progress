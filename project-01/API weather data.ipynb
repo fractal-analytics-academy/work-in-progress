{
 "cells": [
  {
   "cell_type": "code",
   "execution_count": 1,
   "metadata": {},
   "outputs": [],
   "source": [
    "import os"
   ]
  },
  {
   "cell_type": "code",
   "execution_count": 2,
   "metadata": {},
   "outputs": [
    {
     "data": {
      "text/plain": [
       "'/home/fractaluser/JSON data pull '"
      ]
     },
     "execution_count": 2,
     "metadata": {},
     "output_type": "execute_result"
    }
   ],
   "source": [
    "os.getcwd()"
   ]
  },
  {
   "cell_type": "code",
   "execution_count": 3,
   "metadata": {},
   "outputs": [],
   "source": [
    "import json"
   ]
  },
  {
   "cell_type": "code",
   "execution_count": 4,
   "metadata": {},
   "outputs": [],
   "source": [
    "import requests"
   ]
  },
  {
   "cell_type": "code",
   "execution_count": null,
   "metadata": {
    "scrolled": true
   },
   "outputs": [],
   "source": [
    "weather.json()"
   ]
  },
  {
   "cell_type": "code",
   "execution_count": null,
   "metadata": {},
   "outputs": [],
   "source": [
    "url = 'http://api.openweathermap.org/data/2.5/weather?zip=94040,us&APPID=a45aa3b92605bc80e361887b05785e09'"
   ]
  },
  {
   "cell_type": "code",
   "execution_count": null,
   "metadata": {},
   "outputs": [],
   "source": [
    "#api.openweathermap.org/data/2.5/forecast?q={city name},{country code}\n",
    "# api.openweathermap.org/data/2.5/weather?zip=94040,us"
   ]
  },
  {
   "cell_type": "code",
   "execution_count": null,
   "metadata": {},
   "outputs": [],
   "source": [
    "\n",
    "headers = {\n",
    "    \"weather-api-key\" : \"a45aa3b92605bc80e361887b05785e09\"\n",
    "    \n",
    "}\n",
    "response = requests.get(url)\n"
   ]
  },
  {
   "cell_type": "code",
   "execution_count": null,
   "metadata": {},
   "outputs": [],
   "source": [
    "data = response.json()"
   ]
  },
  {
   "cell_type": "code",
   "execution_count": null,
   "metadata": {},
   "outputs": [],
   "source": [
    "response = requests.get(url)"
   ]
  },
  {
   "cell_type": "code",
   "execution_count": null,
   "metadata": {},
   "outputs": [],
   "source": [
    "print(response.status_code)"
   ]
  },
  {
   "cell_type": "code",
   "execution_count": null,
   "metadata": {},
   "outputs": [],
   "source": [
    "data"
   ]
  },
  {
   "cell_type": "code",
   "execution_count": null,
   "metadata": {},
   "outputs": [],
   "source": [
    "mydata"
   ]
  },
  {
   "cell_type": "code",
   "execution_count": null,
   "metadata": {},
   "outputs": [],
   "source": [
    "# trying to convert the above returned dataype list to dict\n",
    "my_list = data\n",
    "for d in my_list:\n",
    "    for key, value in d.items():\n",
    "        with open('comments.json', 'a') as f:\n",
    "            json.dump(\"{}: {}\".format(key,value), f)\n",
    "            f.write('\\n')"
   ]
  },
  {
   "cell_type": "code",
   "execution_count": null,
   "metadata": {},
   "outputs": [],
   "source": [
    "'''\n",
    "import json\n",
    "f = open(\"comments.json\")\n",
    "mydata = json.load(f)\n",
    "f.close()\n",
    "print(mydata)\n",
    "'''"
   ]
  },
  {
   "cell_type": "code",
   "execution_count": null,
   "metadata": {},
   "outputs": [],
   "source": [
    "data"
   ]
  },
  {
   "cell_type": "code",
   "execution_count": 5,
   "metadata": {},
   "outputs": [],
   "source": [
    "import json\n",
    "f = open(\"city_list.json\")\n",
    "data = json.load(f)\n",
    "f.close()\n",
    "#type(data)\n",
    "#print(data[1]['coord'])\n",
    "#print(data)"
   ]
  },
  {
   "cell_type": "code",
   "execution_count": null,
   "metadata": {},
   "outputs": [],
   "source": [
    "coordinates = [ll['coord'] for ll in data]\n",
    "coordinates"
   ]
  },
  {
   "cell_type": "code",
   "execution_count": null,
   "metadata": {},
   "outputs": [],
   "source": [
    "type(coordinates)"
   ]
  },
  {
   "cell_type": "code",
   "execution_count": null,
   "metadata": {},
   "outputs": [],
   "source": [
    "coordinates[0]['lat']"
   ]
  },
  {
   "cell_type": "code",
   "execution_count": null,
   "metadata": {},
   "outputs": [],
   "source": [
    "lt = coordinates[0]['lat']\n",
    "lo = coordinates[0]['lon']\n",
    "\n",
    "print(lt,lo)"
   ]
  },
  {
   "cell_type": "code",
   "execution_count": null,
   "metadata": {},
   "outputs": [],
   "source": [
    "url = \"http://api.openweathermap.org/data/2.5/weather?lat=35&lon=139&APPID=53933670c1bf4a92d418a1b7bfd191c3\"\n"
   ]
  },
  {
   "cell_type": "code",
   "execution_count": null,
   "metadata": {},
   "outputs": [],
   "source": [
    "jsoncontent = requests.get(url)\n",
    "jsoncontent.json()"
   ]
  },
  {
   "cell_type": "code",
   "execution_count": null,
   "metadata": {},
   "outputs": [],
   "source": [
    "JSONContent.status_code"
   ]
  },
  {
   "cell_type": "code",
   "execution_count": null,
   "metadata": {},
   "outputs": [],
   "source": [
    "# using the lat lon to get the data , need to loop this \n",
    "\n",
    "\n",
    "JSONContent = requests.get(\"http://api.openweathermap.org/data/2.5/weather?lat=\"+str(lt)+\"&lon=\"+str(lo)+\"&APPID=53933670c1bf4a92d418a1b7bfd191c3\")"
   ]
  },
  {
   "cell_type": "code",
   "execution_count": null,
   "metadata": {},
   "outputs": [],
   "source": [
    "JSONContent.status_code"
   ]
  },
  {
   "cell_type": "code",
   "execution_count": null,
   "metadata": {},
   "outputs": [],
   "source": [
    "header = {\n",
    "    \"api-key\": \"a45aa3b92605bc80e361887b05785e09\"\n",
    "sample = requests.get(url,header)"
   ]
  },
  {
   "cell_type": "code",
   "execution_count": null,
   "metadata": {},
   "outputs": [],
   "source": []
  },
  {
   "cell_type": "code",
   "execution_count": null,
   "metadata": {},
   "outputs": [],
   "source": [
    "lt = coordinates[0]['lat']\n",
    "lo = coordinates[0]['lon']\n",
    "\n",
    "print(lt,lo)"
   ]
  },
  {
   "cell_type": "code",
   "execution_count": 15,
   "metadata": {},
   "outputs": [],
   "source": [
    "channels = data\n",
    "channels_list = []\n",
    "\n",
    "for i in channels[:2]:\n",
    "    lo = i['coord']['lon']\n",
    "    lt = i['coord']['lat']\n",
    "    JSONContent = requests.get(\"http://api.openweathermap.org/data/2.5/weather?lat=\"+str(lt)+\"&lon=\"+str(lo)+\"&APPID=53933670c1bf4a92d418a1b7bfd191c3\")\n",
    "    if 'error' not in JSONContent:\n",
    "         channels_list.append(JSONContent.json())"
   ]
  },
  {
   "cell_type": "code",
   "execution_count": 17,
   "metadata": {},
   "outputs": [],
   "source": [
    "import json\n",
    "with open('weatherdata.json', 'w') as f:\n",
    "    json.dump(channels_list, f)"
   ]
  },
  {
   "cell_type": "code",
   "execution_count": 9,
   "metadata": {},
   "outputs": [
    {
     "data": {
      "text/plain": [
       "37.666668"
      ]
     },
     "execution_count": 9,
     "metadata": {},
     "output_type": "execute_result"
    }
   ],
   "source": [
    "data[1]['coord']['lon']"
   ]
  },
  {
   "cell_type": "code",
   "execution_count": 16,
   "metadata": {},
   "outputs": [
    {
     "data": {
      "text/plain": [
       "[{'coord': {'lon': 34.28, 'lat': 44.55},\n",
       "  'weather': [{'id': 800,\n",
       "    'main': 'Clear',\n",
       "    'description': 'clear sky',\n",
       "    'icon': '01n'}],\n",
       "  'base': 'model',\n",
       "  'main': {'temp': 287.03,\n",
       "   'pressure': 1015,\n",
       "   'humidity': 73,\n",
       "   'temp_min': 287.03,\n",
       "   'temp_max': 287.03,\n",
       "   'sea_level': 1015,\n",
       "   'grnd_level': 1016},\n",
       "  'wind': {'speed': 7.86, 'deg': 37},\n",
       "  'clouds': {'all': 0},\n",
       "  'dt': 1573699682,\n",
       "  'sys': {'country': 'UA', 'sunrise': 1573706241, 'sunset': 1573741039},\n",
       "  'timezone': 10800,\n",
       "  'id': 707860,\n",
       "  'name': 'Hurzuf',\n",
       "  'cod': 200},\n",
       " {'coord': {'lon': 37.67, 'lat': 55.68},\n",
       "  'weather': [{'id': 701,\n",
       "    'main': 'Mist',\n",
       "    'description': 'mist',\n",
       "    'icon': '50n'}],\n",
       "  'base': 'stations',\n",
       "  'main': {'temp': 273.4,\n",
       "   'pressure': 1026,\n",
       "   'humidity': 87,\n",
       "   'temp_min': 272.15,\n",
       "   'temp_max': 275.15},\n",
       "  'visibility': 5000,\n",
       "  'wind': {'speed': 4, 'deg': 130},\n",
       "  'clouds': {'all': 54},\n",
       "  'dt': 1573699682,\n",
       "  'sys': {'type': 1,\n",
       "   'id': 9033,\n",
       "   'country': 'RU',\n",
       "   'sunrise': 1573707681,\n",
       "   'sunset': 1573737972},\n",
       "  'timezone': 10800,\n",
       "  'id': 519188,\n",
       "  'name': 'Novinki',\n",
       "  'cod': 200}]"
      ]
     },
     "execution_count": 16,
     "metadata": {},
     "output_type": "execute_result"
    }
   ],
   "source": [
    "channels_list"
   ]
  },
  {
   "cell_type": "code",
   "execution_count": 10,
   "metadata": {},
   "outputs": [
    {
     "data": {
      "text/plain": [
       "209579"
      ]
     },
     "execution_count": 10,
     "metadata": {},
     "output_type": "execute_result"
    }
   ],
   "source": [
    "len(data)"
   ]
  },
  {
   "cell_type": "code",
   "execution_count": null,
   "metadata": {},
   "outputs": [],
   "source": [
    "JSONContent"
   ]
  },
  {
   "cell_type": "code",
   "execution_count": null,
   "metadata": {},
   "outputs": [],
   "source": [
    "channels = data\n",
    "data"
   ]
  },
  {
   "cell_type": "code",
   "execution_count": null,
   "metadata": {},
   "outputs": [],
   "source": [
    "channels = coordinates\n",
    "for i in channels:\n",
    "    print(i[0])"
   ]
  },
  {
   "cell_type": "code",
   "execution_count": null,
   "metadata": {},
   "outputs": [],
   "source": [
    "# http://history.openweathermap.org/data/2.5/history/city?lat=41.85&lon=-87.65\n"
   ]
  },
  {
   "cell_type": "code",
   "execution_count": null,
   "metadata": {},
   "outputs": [],
   "source": [
    "ttp://api.openweathermap.org/data/2.5/weather?zip=94040,us&APPID=a45aa3b92605bc80e361887b05785e09'"
   ]
  }
 ],
 "metadata": {
  "kernelspec": {
   "display_name": "Python 3",
   "language": "python",
   "name": "python3"
  },
  "language_info": {
   "codemirror_mode": {
    "name": "ipython",
    "version": 3
   },
   "file_extension": ".py",
   "mimetype": "text/x-python",
   "name": "python",
   "nbconvert_exporter": "python",
   "pygments_lexer": "ipython3",
   "version": "3.7.4"
  }
 },
 "nbformat": 4,
 "nbformat_minor": 2
}
